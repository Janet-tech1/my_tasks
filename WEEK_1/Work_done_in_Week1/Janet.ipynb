{
 "cells": [
  {
   "cell_type": "code",
   "execution_count": null,
   "id": "d7e3dc2a",
   "metadata": {
    "vscode": {
     "languageId": "plaintext"
    }
   },
   "outputs": [],
   "source": [
    "print(\"hello world\")"
   ]
  },
  {
   "cell_type": "markdown",
   "id": "2ead1ae9",
   "metadata": {},
   "source": [
    "[print(\"hello world\")]"
   ]
  }
 ],
 "metadata": {
  "language_info": {
   "name": "python"
  }
 },
 "nbformat": 4,
 "nbformat_minor": 5
}
